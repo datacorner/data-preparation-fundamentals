{
 "cells": [
  {
   "cell_type": "code",
   "execution_count": 0,
   "metadata": {
    "application/vnd.databricks.v1+cell": {
     "cellMetadata": {
      "byteLimit": 2048000,
      "rowLimit": 10000
     },
     "inputWidgets": {},
     "nuid": "b113f4cd-4b12-41d8-9baf-b98aae4794e2",
     "showTitle": false,
     "tableResultSettingsMap": {},
     "title": ""
    }
   },
   "outputs": [
    {
     "output_type": "stream",
     "name": "stdout",
     "output_type": "stream",
     "text": [
      "+---+-------------+----------+\n| id|    full_name|first_name|\n+---+-------------+----------+\n|  1|Alice Johnson|     Alice|\n|  2|    Bob Smith|       Bob|\n|  3|Charlie Brown|   Charlie|\n|  4|    David Lee|     David|\n+---+-------------+----------+\n\n"
     ]
    }
   ],
   "source": [
    "from pyspark.sql.functions import pandas_udf\n",
    "from pyspark.sql.types import StringType\n",
    "import pandas as pd\n",
    "\n",
    "# Sample data\n",
    "data = [(1, \"Alice Johnson\"), (2, \"Bob Smith\"), (3, \"Charlie Brown\"), (4, \"David Lee\")]\n",
    "df = spark.createDataFrame(data, [\"id\", \"full_name\"])\n",
    "\n",
    "# Define pandas UDF to extract the first name\n",
    "@pandas_udf(StringType())\n",
    "def extract_first_name(series: pd.Series) -> pd.Series:\n",
    "    return series.str.split().str[0]\n",
    "\n",
    "# Apply pandas UDF\n",
    "df_transformed = df.withColumn(\"first_name\", extract_first_name(df[\"full_name\"]))\n",
    "\n",
    "# Show result\n",
    "df_transformed.show()"
   ]
  }
 ],
 "metadata": {
  "application/vnd.databricks.v1+notebook": {
   "computePreferences": null,
   "dashboards": [],
   "environmentMetadata": {
    "base_environment": "",
    "client": "1"
   },
   "language": "python",
   "notebookMetadata": {
    "pythonIndentUnit": 4
   },
   "notebookName": "listing_10.z",
   "widgets": {}
  }
 },
 "nbformat": 4,
 "nbformat_minor": 0
}
