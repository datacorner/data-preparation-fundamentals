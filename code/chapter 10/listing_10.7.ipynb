{
 "cells": [
  {
   "cell_type": "code",
   "execution_count": 0,
   "metadata": {
    "application/vnd.databricks.v1+cell": {
     "cellMetadata": {
      "byteLimit": 2048000,
      "rowLimit": 10000
     },
     "inputWidgets": {},
     "nuid": "7b2810ef-e82f-48d0-8d9f-40058796f3fa",
     "showTitle": false,
     "tableResultSettingsMap": {},
     "title": ""
    }
   },
   "outputs": [
    {
     "output_type": "stream",
     "name": "stdout",
     "output_type": "stream",
     "text": [
      "+---+----------+\n| id|first_name|\n+---+----------+\n|  1|     Alice|\n|  2|       Bob|\n|  3|   Charlie|\n|  4|     David|\n+---+----------+\n\n"
     ]
    }
   ],
   "source": [
    "from pyspark.sql.types import StructType, StructField, IntegerType, StringType\n",
    "import pandas as pd\n",
    "\n",
    "# Sample data\n",
    "data = [(1, \"Alice Johnson\"), (2, \"Bob Smith\"), (3, \"Charlie Brown\"), (4, \"David Lee\")]\n",
    "df = spark.createDataFrame(data, [\"id\", \"full_name\"])\n",
    "\n",
    "# Define the function to apply\n",
    "def extract_first_name(pdf: pd.DataFrame) -> pd.DataFrame:\n",
    "    pdf[\"first_name\"] = pdf[\"full_name\"].str.split().str[0]\n",
    "    return pdf[[\"id\", \"first_name\"]]\n",
    "\n",
    "# Define schema for the output\n",
    "schema = StructType([\n",
    "    StructField(\"id\", IntegerType(), False),\n",
    "    StructField(\"first_name\", StringType(), False)\n",
    "])\n",
    "\n",
    "# Apply function using applyInPandas\n",
    "df_transformed = df.groupBy().applyInPandas(extract_first_name, schema)\n",
    "\n",
    "# Show result\n",
    "df_transformed.show()"
   ]
  }
 ],
 "metadata": {
  "application/vnd.databricks.v1+notebook": {
   "computePreferences": null,
   "dashboards": [],
   "environmentMetadata": {
    "base_environment": "",
    "client": "1"
   },
   "language": "python",
   "notebookMetadata": {
    "pythonIndentUnit": 4
   },
   "notebookName": "listing_10.zz",
   "widgets": {}
  }
 },
 "nbformat": 4,
 "nbformat_minor": 0
}
